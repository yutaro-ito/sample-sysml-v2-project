{
 "cells": [
  {
   "cell_type": "markdown",
   "id": "a998ce7c-d36b-42c7-a46e-6d48c0a279f6",
   "metadata": {},
   "source": [
    "# Example of Emergency Alert Control System (EACS)"
   ]
  },
  {
   "cell_type": "markdown",
   "id": "3223e985-886d-4e92-93e2-a17697878f05",
   "metadata": {},
   "source": [
    "## How to Use"
   ]
  },
  {
   "cell_type": "markdown",
   "id": "683e1e47-3d85-443d-b2d4-f82bb34aeaf9",
   "metadata": {},
   "source": [
    "Select [Run] - [Run All Cells]"
   ]
  },
  {
   "cell_type": "markdown",
   "id": "0df06772-a354-4d81-b57b-3ea7fb65fa9e",
   "metadata": {},
   "source": [
    "## Visualization Hints for JupyterLab"
   ]
  },
  {
   "cell_type": "code",
   "execution_count": null,
   "id": "f5ec9bb7-b665-4291-af19-c6921524b778",
   "metadata": {
    "vscode": {
     "languageId": "sysml"
    }
   },
   "outputs": [],
   "source": [
    "%viz -h"
   ]
  },
  {
   "cell_type": "markdown",
   "id": "f0ee0ce1-466c-4a32-8d23-a90d9c0b5b0c",
   "metadata": {},
   "source": [
    "## Example of Emergency Alert System "
   ]
  },
  {
   "cell_type": "markdown",
   "id": "32b1f878-fac6-423a-aae6-944098398726",
   "metadata": {},
   "source": [
    "### Source Files"
   ]
  },
  {
   "cell_type": "markdown",
   "id": "083581de-ee40-4f6a-a97c-29adac09810d",
   "metadata": {},
   "source": [
    "GitHub: https://github.com/yutaro-ito/sample-sysml-v2-project"
   ]
  },
  {
   "cell_type": "markdown",
   "id": "6cc51317-4a5d-4b7a-a294-b761fc01585c",
   "metadata": {},
   "source": [
    "### Emergency Alert System"
   ]
  },
  {
   "cell_type": "markdown",
   "id": "6bfc84b1-a52d-418c-8542-89b9243db025",
   "metadata": {},
   "source": [
    "#### Stakeholder Definition"
   ]
  },
  {
   "cell_type": "markdown",
   "id": "a245f0fd-9353-4ca7-b1f6-7aacbc01ac9d",
   "metadata": {},
   "source": [
    "GitHub: https://github.com/yutaro-ito/sample-sysml-v2-project/blob/main/src/system-stakeholder.sysml"
   ]
  },
  {
   "cell_type": "code",
   "execution_count": null,
   "id": "3fca753c-f8ab-4350-8cfc-1fce652b5e6d",
   "metadata": {
    "vscode": {
     "languageId": "sysml"
    }
   },
   "outputs": [],
   "source": [
    "package 'EACS Stakeholder'\n",
    "{\n",
    "    // ====================================\n",
    "    // Definition of Stakeholders\n",
    "    // ====================================\n",
    "    part def 'Customer';\n",
    "    part def 'Software Engineer';\n",
    "    part def 'Verification Engineer';\n",
    "\n",
    "    // ====================================\n",
    "    // Definition of Stakeholders' Concerns\n",
    "    // ====================================\n",
    "    concern 'requirement traceability' {\n",
    "        doc /* Will the traceable requirements in the system be completely and correctly defined? */\n",
    "        stakeholder 'Customer';\n",
    "    }\n",
    "\n",
    "    concern 'decomposition and allocation' {\n",
    "        doc /* Will you decompose system to sub-systems and allocate them to HW and SW correctly? */\n",
    "        stakeholder 'Customer';\n",
    "        stakeholder 'Software Engineer';\n",
    "    }\n",
    "\n",
    "    concern 'requirement and architecture definition' {\n",
    "        doc /* Will the requirements and architecture in the system be completely and correctly defined? */\n",
    "        stakeholder 'Customer';\n",
    "        stakeholder 'Software Engineer';\n",
    "    }\n",
    "\n",
    "    concern 'desigbable architecture' {\n",
    "        doc /* Will you create architecture with which software engineers can define their software requirements and architecture? */\n",
    "        stakeholder 'Software Engineer';\n",
    "    }\n",
    "\n",
    "    concern 'verifiable requirements and architecture' {\n",
    "        doc /* Will you create requirements and architecture with which verification engineers can define their test scenarios? */\n",
    "        stakeholder 'Verification Engineer';\n",
    "    }\n",
    "}"
   ]
  },
  {
   "cell_type": "code",
   "execution_count": null,
   "id": "0f4a83a6-3aa5-4f0d-a5c8-75515b2d6f3b",
   "metadata": {
    "vscode": {
     "languageId": "sysml"
    }
   },
   "outputs": [],
   "source": [
    "%viz --view tree --style stdcolor --style lr \"EACS Stakeholder\""
   ]
  },
  {
   "cell_type": "markdown",
   "id": "917d2b62-b7b3-4dce-86a2-a6dd9ff3b631",
   "metadata": {},
   "source": [
    "#### Viewpoint and View Definition"
   ]
  },
  {
   "cell_type": "markdown",
   "id": "b4e4f680-d7d7-4ee6-a0b9-0f8de67c18ef",
   "metadata": {},
   "source": [
    "GitHub: https://github.com/yutaro-ito/sample-sysml-v2-project/blob/main/src/system-viewpoint-and-view.sysml"
   ]
  },
  {
   "cell_type": "code",
   "execution_count": null,
   "id": "9588fd00-d95f-4d08-a334-686192973cc2",
   "metadata": {
    "vscode": {
     "languageId": "sysml"
    }
   },
   "outputs": [],
   "source": [
    "package 'EACS Viewpoint and View'\n",
    "{\n",
    "    import 'EACS Stakeholder'::*;\n",
    "\n",
    "    /* ToDo */\n",
    "\n",
    "    // ====================================\n",
    "    // Definition of Viewpoints\n",
    "    // ====================================\n",
    "    viewpoint 'customer quality viewpoint' {\n",
    "        frame 'requirement traceability';\n",
    "        frame 'requirement and architecture definition';\n",
    "        frame 'decomposition and allocation';\n",
    "        require constraint {\n",
    "            doc /* A customer quality viewpoint shall show the hierarchical\n",
    "                   part decomposition of a system, starting with a\n",
    "                   specified root part that is linked with requirements.\n",
    "            */\n",
    "        }\n",
    "    }\n",
    "\n",
    "    viewpoint 'software development viewpoint' {\n",
    "        frame 'desigbable architecture';\n",
    "        require constraint {\n",
    "            doc /* A software development viewpoint shall show the necessary views\n",
    "                   for software development such as designable architecture.\n",
    "            */\n",
    "        }\n",
    "    }\n",
    "\n",
    "    viewpoint 'verification viewpoint' {\n",
    "        frame 'verifiable requirements and architecture';\n",
    "        require constraint {\n",
    "            doc /* A verifiaction development viewpoint shall show the necessary views\n",
    "                   for verification of system requirements and architecture.\n",
    "            */\n",
    "        }\n",
    "    }\n",
    "\n",
    "    // ====================================\n",
    "    // Definition of Views (ToDo)\n",
    "    // ====================================\n",
    "    view def 'Customer Quality View' {\n",
    "        satisfy 'customer quality viewpoint';\n",
    "    }\n",
    "    view def 'Software Development View' {\n",
    "        satisfy 'software development viewpoint';\n",
    "    }\n",
    "    view def 'Verification View' {\n",
    "        satisfy 'verification viewpoint';\n",
    "    }\n",
    "\n",
    "    // ====================================\n",
    "    // Usage of Views (ToDo)\n",
    "    // ====================================\n",
    "    view 'customer quality view': 'Customer Quality View' {\n",
    "        /* ToDo */\n",
    "    }\n",
    "    view 'software development view': 'Software Development View' {\n",
    "        /* ToDo */\n",
    "\n",
    "    }\n",
    "    view 'verification view': 'Verification View' {\n",
    "        /* ToDo */\n",
    "    }\n",
    "}"
   ]
  },
  {
   "cell_type": "code",
   "execution_count": null,
   "id": "76cd88bc-c0af-4dbf-bf8d-7a157316f2d5",
   "metadata": {
    "vscode": {
     "languageId": "sysml"
    }
   },
   "outputs": [],
   "source": [
    "%viz --view tree --style stdcolor --style lr \"EACS Viewpoint and View\""
   ]
  },
  {
   "cell_type": "markdown",
   "id": "5857a92e-5c79-476c-ab46-95c955b64576",
   "metadata": {},
   "source": [
    "#### System Requirement Definition"
   ]
  },
  {
   "cell_type": "markdown",
   "id": "9a50ab57-acb9-4c3b-a7f9-f9cc1dcc0658",
   "metadata": {},
   "source": [
    "GitHub: https://github.com/yutaro-ito/sample-sysml-v2-project/blob/main/src/system-requirement.sysml"
   ]
  },
  {
   "cell_type": "code",
   "execution_count": null,
   "id": "286474a7-1036-4c65-b58f-248295c7f94c",
   "metadata": {
    "vscode": {
     "languageId": "sysml"
    }
   },
   "outputs": [],
   "source": [
    "package 'EACS System Definition'\n",
    "{\n",
    "    // ====================================\n",
    "    // Definition of Systems\n",
    "    // ====================================\n",
    "    part def EACS;\n",
    "    part def External_Environment;\n",
    "    part def External_System;\n",
    "}"
   ]
  },
  {
   "cell_type": "code",
   "execution_count": null,
   "id": "0e560560-b9e7-40d9-b4eb-2b9e18c3e46e",
   "metadata": {
    "vscode": {
     "languageId": "sysml"
    }
   },
   "outputs": [],
   "source": [
    "package 'EACS System Requirement'\n",
    "{\n",
    "    import 'EACS System Definition'::*;\n",
    "\n",
    "    // ====================================\n",
    "    // Definition of Attribute\n",
    "    // ====================================\n",
    "    attribute def Signal_Output_Period :> ScalarValues::Integer;\n",
    "    attribute def Acceleration_Sampling_Period :> ScalarValues::Integer;\n",
    "    attribute def Temperature_Sampling_Period :> ScalarValues::Integer;\n",
    "    attribute def Acceleration_Low :> ScalarValues::Real;\n",
    "    attribute def Acceleration_High :> ScalarValues::Real;\n",
    "    attribute def Temperature_Low :> ScalarValues::Real;\n",
    "    attribute def Temperature_High :> ScalarValues::Real;\n",
    "\n",
    "    // ====================================\n",
    "    // Definition of Requirement\n",
    "    // ====================================\n",
    "    requirement def <'REQ_01'> 'Startup Requirement' {\n",
    "        doc /* After the power ON, the EACS shall initialize its sensors. */\n",
    "    }\n",
    "    requirement def <'REQ_02'> 'Initialization Requirement - Signal Output' {\n",
    "        doc /* During the initialization, the EACS shall send the Alert OFF signal to External System every required period. */\n",
    "        attribute atr_sig_out_period: Signal_Output_Period;\n",
    "    }\n",
    "    requirement def <'REQ_03'> 'Initialization Requirement - Acceleration Sensoring' {\n",
    "        doc /* During the runtime (i.e. after the initialization), the EACS shall sample the acceleration of the EACS every required period. */\n",
    "        attribute atr_accel_sample_period: Acceleration_Sampling_Period;\n",
    "    }\n",
    "    requirement def <'REQ_04'> 'Initialization Requirement - Temperature Sensoring' {\n",
    "        doc /* After the initialization, the EACS shall sample the acceleration of the EACS every required period. */\n",
    "        attribute atr_temp_sample_period: Temperature_Sampling_Period;\n",
    "    }\n",
    "    requirement def <'REQ_05'> 'Runtime Requirement - Alert OFF' {\n",
    "        doc /* During the runtime (i.e. after the initialization), the EACS shall send the Alert OFF signal to External System every required period if the acceleration is between required range and the temperature is between required range. */\n",
    "        attribute atr_sig_out_period: Signal_Output_Period;\n",
    "        attribute atr_accel_low: Acceleration_Low;\n",
    "        attribute atr_accel_high: Acceleration_High;\n",
    "        attribute atr_temp_low: Temperature_Low;\n",
    "        attribute atr_temp_high: Temperature_High;\n",
    "        require constraint { atr_accel_low <= atr_accel_high }\n",
    "        require constraint { atr_temp_low <= atr_temp_high }\n",
    "    }\n",
    "    requirement def <'REQ_06'> 'Runtime Requirement - Alert ON' {\n",
    "        doc /* During the runtime (i.e. after the initialization), the EACS shall send the Alert ON signal to External System every required period if the acceleration is outside the range and the temperature is between required range. */\n",
    "        attribute atr_sig_out_period: Signal_Output_Period;\n",
    "        attribute atr_accel_low: Acceleration_Low;\n",
    "        attribute atr_accel_high: Acceleration_High;\n",
    "        attribute atr_temp_low: Temperature_Low;\n",
    "        attribute atr_temp_high: Temperature_High;\n",
    "        require constraint { atr_accel_low <= atr_accel_high }\n",
    "        require constraint { atr_temp_low <= atr_temp_high }\n",
    "    }\n",
    "    requirement def <'REQ_07'> 'Runtime Requirement - Temperature Abnormal' {\n",
    "        doc /* During the runtime (i.e. after the initialization), the EACS shall send the Alert OFF signal to External System every required period if the temperature is outside the range. */\n",
    "        attribute atr_sig_out_period: Signal_Output_Period;\n",
    "        attribute atr_temp_low: Temperature_Low;\n",
    "        attribute atr_temp_high: Temperature_High;\n",
    "        require constraint { atr_temp_low <= atr_temp_high }\n",
    "    }\n",
    "    requirement def <'REQ_08'> 'Shutdown Requirement' {\n",
    "        doc /* After the power OFF, the EACS shall stop sending the Alert signals to External System. */\n",
    "    }\n",
    "\n",
    "    // ====================================\n",
    "    // Usage of Requirement\n",
    "    // ====================================\n",
    "    requirement <'REQ_01.01'> startup_req: 'Startup Requirement' {\n",
    "        subject eacs: EACS;\n",
    "    }\n",
    "    requirement <'REQ_02.01'> init_req_sig_out: 'Initialization Requirement - Signal Output' {\n",
    "        subject eacs: EACS;\n",
    "        attribute :>> atr_sig_out_period = 100;\n",
    "    }\n",
    "    requirement <'REQ_03.01'> init_req_accel_sample: 'Initialization Requirement - Acceleration Sensoring' {\n",
    "        subject eacs: EACS;\n",
    "        attribute :>> atr_accel_sample_period = 100;\n",
    "    }\n",
    "    requirement <'REQ_04.01'> init_req_temp_sample: 'Initialization Requirement - Temperature Sensoring' {\n",
    "        subject eacs: EACS;\n",
    "        attribute :>> atr_temp_sample_period = 100;\n",
    "    }\n",
    "    requirement <'REQ_05.01'> run_req_alert_off: 'Runtime Requirement - Alert OFF' {\n",
    "        subject eacs: EACS;\n",
    "        attribute :>> atr_sig_out_period = 100;\n",
    "        attribute :>> atr_accel_low = -50.0;\n",
    "        attribute :>> atr_accel_high = 50.0;\n",
    "        attribute :>> atr_temp_low = -40.0;\n",
    "        attribute :>> atr_temp_high = 80.0;\n",
    "    }\n",
    "    requirement <'REQ_06.01'> run_req_alert_on: 'Runtime Requirement - Alert ON' {\n",
    "        subject eacs: EACS;\n",
    "        attribute :>> atr_sig_out_period = 100;\n",
    "        attribute :>> atr_accel_low = -50.0;\n",
    "        attribute :>> atr_accel_high = 50.0;\n",
    "        attribute :>> atr_temp_low = -40.0;\n",
    "        attribute :>> atr_temp_high = 80.0;\n",
    "    }\n",
    "    requirement <'REQ_07.01'> run_req_temp_abnormal: 'Runtime Requirement - Temperature Abnormal' {\n",
    "        subject eacs: EACS;\n",
    "        attribute :>> atr_sig_out_period = 100;\n",
    "        attribute :>> atr_temp_low = -40.0;\n",
    "        attribute :>> atr_temp_high = 80.0;\n",
    "    }\n",
    "    requirement <'REQ_08.01'> shutdown_req: 'Shutdown Requirement' {\n",
    "        subject eacs: EACS;\n",
    "    }\n",
    "}"
   ]
  },
  {
   "cell_type": "code",
   "execution_count": null,
   "id": "408460d0-d4e9-4b23-8b87-3b828afeeced",
   "metadata": {
    "vscode": {
     "languageId": "sysml"
    }
   },
   "outputs": [],
   "source": [
    "%viz --view tree --style stdcolor --style lr \"EACS System Requirement\""
   ]
  },
  {
   "cell_type": "markdown",
   "id": "786d29ba-22e8-48bb-b7dc-995ee1ab8b97",
   "metadata": {},
   "source": [
    "#### System Context Definition"
   ]
  },
  {
   "cell_type": "markdown",
   "id": "b794b204-6479-4559-9954-51ec1bff723f",
   "metadata": {},
   "source": [
    "GitHub: https://github.com/yutaro-ito/sample-sysml-v2-project/blob/main/src/system-context.sysml"
   ]
  },
  {
   "cell_type": "code",
   "execution_count": null,
   "id": "53034aa3-8595-46ab-b40b-fc6d5e77861f",
   "metadata": {
    "vscode": {
     "languageId": "sysml"
    }
   },
   "outputs": [],
   "source": [
    "package 'EACS System Context'\n",
    "{\n",
    "    import 'EACS System Definition'::*;\n",
    "\n",
    "    // ====================================\n",
    "    // Definitions of System Context\n",
    "    // ====================================\n",
    "    part def EACS_System_Context {\n",
    "        part eacs: EACS[1];\n",
    "        part ext_sys: External_System[1];\n",
    "        part ext_env: External_Environment[1..*];\n",
    "    }\n",
    "\n",
    "    // ====================================\n",
    "    // Usage of System Context\n",
    "    // ====================================\n",
    "    part etac_sys_cxt: EACS_System_Context;\n",
    "}"
   ]
  },
  {
   "cell_type": "code",
   "execution_count": null,
   "id": "4aa0f9a9-dc2d-4c9c-95ef-10d32b512700",
   "metadata": {
    "vscode": {
     "languageId": "sysml"
    }
   },
   "outputs": [],
   "source": [
    "%viz --view tree --style stdcolor --style tb \"EACS System Context\""
   ]
  },
  {
   "cell_type": "markdown",
   "id": "2ae70b65-e1a1-47f3-b0cf-5f60d31522f3",
   "metadata": {},
   "source": [
    "#### System Use Case Definition"
   ]
  },
  {
   "cell_type": "markdown",
   "id": "a13c04fe-15f0-4769-9a37-1bf364806dea",
   "metadata": {},
   "source": [
    "GitHub: https://github.com/yutaro-ito/sample-sysml-v2-project/blob/main/src/system-use-case.sysml"
   ]
  },
  {
   "cell_type": "code",
   "execution_count": null,
   "id": "3dd089c6-8378-4911-aa4d-9eef934e9214",
   "metadata": {
    "vscode": {
     "languageId": "sysml"
    }
   },
   "outputs": [],
   "source": [
    "package 'EACS System Use Case'\n",
    "{\n",
    "    import 'EACS System Context'::*;\n",
    "\n",
    "    // ====================================\n",
    "    // Definition of System Use Cases\n",
    "    // ====================================\n",
    "    use case def 'Start_System' {\n",
    "        subject subject_eacs: EACS[1];\n",
    "        actor actor_ext_sys: External_System[1];\n",
    "        objective {\n",
    "            doc /* The External System wants the EACS to start the system to activate the emergency alert function. */\n",
    "        }\n",
    "    }\n",
    "    use case def 'Stop_System' {\n",
    "        subject subject_eacs: EACS[1];\n",
    "        actor actor_ext_sys: External_System[1];\n",
    "        objective {\n",
    "            doc /* The External System wants the EACS to stop the system to deactivate the emergency alert function. */\n",
    "        }\n",
    "    }\n",
    "    use case def 'Monitor_Acceleration' {\n",
    "        subject subject_eacs: EACS[1];\n",
    "        actor actor_ext_env: External_Environment[1..*];\n",
    "        objective {\n",
    "            doc /* The External Environment wants the EACS to monitor the acceleration to decide whether emergency alert is issued or not. */\n",
    "        }\n",
    "    }\n",
    "    use case def 'Monitor_Temperature' {\n",
    "        subject subject_eacs: EACS[1];\n",
    "        actor actor_ext_env: External_Environment[1..*];\n",
    "        objective {\n",
    "            doc /* The External Environment wants the EACS to monitor the temperature to decide whether emergency alert is issued or not. */\n",
    "        }\n",
    "    }\n",
    "    use case def 'Send_Alert_Signal_Periodically' {\n",
    "        subject subject_eacs: EACS[1];\n",
    "        actor actor_ext_sys: External_System[1];\n",
    "        objective {\n",
    "            doc /* The External System wants the EACS to send alert ON/OFF signals periodically to control emergency alert. */\n",
    "        }\n",
    "    }\n",
    "\n",
    "    // ====================================\n",
    "    // Usage of System Use Cases\n",
    "    // ====================================\n",
    "    use case 'start_system': 'Start_System' {\n",
    "        subject :>> subject_eacs = etac_sys_cxt.eacs;\n",
    "        actor :>> actor_ext_sys = etac_sys_cxt.ext_sys;\n",
    "    }\n",
    "    use case 'stop_system': 'Stop_System' {\n",
    "        subject :>> subject_eacs = etac_sys_cxt.eacs;\n",
    "        actor :>> actor_ext_sys = etac_sys_cxt.ext_sys;\n",
    "    }\n",
    "    use case 'monitor_acceleration': 'Monitor_Acceleration' {\n",
    "        subject :>> subject_eacs = etac_sys_cxt.eacs;\n",
    "        actor :>> actor_ext_env = etac_sys_cxt.ext_env;\n",
    "    }\n",
    "    use case 'monitor_temperature': 'Monitor_Temperature' {\n",
    "        subject :>> subject_eacs = etac_sys_cxt.eacs;\n",
    "        actor :>> actor_ext_env = etac_sys_cxt.ext_env;\n",
    "    }\n",
    "    use case 'send_alert_signal_periodically': 'Send_Alert_Signal_Periodically' {\n",
    "        subject :>> subject_eacs = etac_sys_cxt.eacs;\n",
    "        actor :>> actor_ext_sys = etac_sys_cxt.ext_sys;\n",
    "    }\n",
    "}"
   ]
  },
  {
   "cell_type": "code",
   "execution_count": null,
   "id": "cb26339d-1be3-4dd7-8510-891ec0a139d1",
   "metadata": {
    "vscode": {
     "languageId": "sysml"
    }
   },
   "outputs": [],
   "source": [
    "%viz --view tree --style stdcolor --style lr \"EACS System Use Case\""
   ]
  },
  {
   "cell_type": "markdown",
   "id": "b04d8ed0-cfcd-4abc-881d-f0866e2d89d0",
   "metadata": {},
   "source": [
    "#### System Item and Interface Definition"
   ]
  },
  {
   "cell_type": "markdown",
   "id": "60144770-4de5-44aa-a7f2-8d36fa7a7d9b",
   "metadata": {},
   "source": [
    "GitHub: https://github.com/yutaro-ito/sample-sysml-v2-project/blob/main/src/system-item.sysml"
   ]
  },
  {
   "cell_type": "code",
   "execution_count": null,
   "id": "50c752f3-c458-4880-beba-004ed40fdadd",
   "metadata": {
    "vscode": {
     "languageId": "sysml"
    }
   },
   "outputs": [],
   "source": [
    "package 'EACS Item'\n",
    "{\n",
    "    // ====================================\n",
    "    // Definition of Item\n",
    "    // ====================================\n",
    "    item def Item_External_Acceleration :> ScalarValues::Integer;\n",
    "    item def Item_External_Temperature :> ScalarValues::Integer;\n",
    "    item def Item_Captured_Acceleration :> ScalarValues::Integer;\n",
    "    item def Item_Captured_Temperature :> ScalarValues::Integer;\n",
    "    item def Item_Alert_Signal :> ScalarValues::Boolean;\n",
    "}"
   ]
  },
  {
   "cell_type": "code",
   "execution_count": null,
   "id": "916f2130-40c4-4997-80b9-e43619c6a885",
   "metadata": {
    "vscode": {
     "languageId": "sysml"
    }
   },
   "outputs": [],
   "source": [
    "%viz --view tree --style stdcolor --style lr \"EACS Item\""
   ]
  },
  {
   "cell_type": "markdown",
   "id": "f4d8af66-d743-44d6-bab0-12a677fe7080",
   "metadata": {},
   "source": [
    "#### System Use Case Activity Definition"
   ]
  },
  {
   "cell_type": "markdown",
   "id": "33fbdb9a-b68a-437a-86cb-78a72c8705e9",
   "metadata": {},
   "source": [
    "GitHub: https://github.com/yutaro-ito/sample-sysml-v2-project/blob/main/src/system-use-case-activity.sysml"
   ]
  },
  {
   "cell_type": "code",
   "execution_count": null,
   "id": "96cce21f-2981-4ac0-af47-5a90a82e2cdd",
   "metadata": {
    "vscode": {
     "languageId": "sysml"
    }
   },
   "outputs": [],
   "source": [
    "package 'EACS System Use Case Activity'\n",
    "{\n",
    "    import 'EACS Item'::*;\n",
    "    \n",
    "    // ====================================\n",
    "    // Definition of Use Case Activities\n",
    "    // ====================================\n",
    "    // Main Action\n",
    "    action def System_Process(in in_ext_accel: Item_External_Acceleration, in in_ext_temp: Item_External_Temperature, out out_alert_sig: Item_Alert_Signal);\n",
    "    action def Start_System(out out_alert_sig: Item_Alert_Signal);\n",
    "    action def Monitor_Acceleration(in in_ext_accel: Item_External_Acceleration, out out_accel: Item_Captured_Acceleration);\n",
    "    action def Monitor_Temperature(in in_ext_temp: Item_External_Temperature, out out_temp: Item_Captured_Temperature);\n",
    "    action def Send_Alert_Signal_Periodically(in in_accel: Item_Captured_Acceleration, in in_temp: Item_Captured_Temperature, out out_alert_sig: Item_Alert_Signal);\n",
    "    action def Stop_System();\n",
    "\n",
    "    // Sub Action\n",
    "    action def Initialize_Acceleration_Sensor();\n",
    "    action def Initialize_Temperature_Sensor();\n",
    "    action def Capture_Acceleration(in in_ext_accel: Item_External_Acceleration, out out_accel: Item_Captured_Acceleration);\n",
    "    action def Capture_Temperature(in in_ext_temp: Item_External_Temperature, out out_temp: Item_Captured_Temperature);\n",
    "    action def Send_Alert_Signal_ON(out out_alert_sig_on: Item_Alert_Signal);\n",
    "    action def Send_Alert_Signal_OFF(out out_alert_sig_off: Item_Alert_Signal);\n",
    "    action def Send_Alert_Signal_Initial(out out_alert_sig_off: Item_Alert_Signal);\n",
    "    action def Stop_Sending_Alert_Signal();\n",
    "\n",
    "    // ====================================\n",
    "    // Usage of Use Case Activities\n",
    "    // ====================================\n",
    "    action system_process: System_Process {\n",
    "        in item in_ext_accel: Item_External_Acceleration;\n",
    "        in item in_ext_temp: Item_External_Temperature;\n",
    "        out item out_alert_sig: Item_Alert_Signal;\n",
    "\n",
    "        first start;\n",
    "        then action start_system: Start_System {\n",
    "            out item out_alert_sig: Item_Alert_Signal;\n",
    "\n",
    "            first start;\n",
    "            then fork;\n",
    "                then initialize_acceleration_sensor;\n",
    "                then initialization_temperature_sensor;\n",
    "                then send_alert_signal_init;\n",
    "            \n",
    "            action initialize_acceleration_sensor: Initialize_Acceleration_Sensor;\n",
    "            then joinNode;\n",
    "            \n",
    "            action initialization_temperature_sensor: Initialize_Temperature_Sensor;\n",
    "            then joinNode;\n",
    "\n",
    "            action send_alert_signal_init: Send_Alert_Signal_Initial {\n",
    "                out item out_alert_sig_off = start_system::out_alert_sig;\n",
    "            }\n",
    "            then joinNode;\n",
    "\n",
    "            join joinNode;\n",
    "            then done;\n",
    "        }\n",
    "        then fork;\n",
    "            then monitor_acceleration;\n",
    "            then monitor_temperature;\n",
    "            then send_alert_signal_periodically;\n",
    "        \n",
    "        action monitor_acceleration: Monitor_Acceleration {\n",
    "            in item in_ext_accel = system_process::in_ext_accel;\n",
    "            out item out_accel;\n",
    "            \n",
    "            first start;\n",
    "            then merge continueMonitoring;\n",
    "            then action capture_acceleration: Capture_Acceleration {\n",
    "                in item in_ext_accel = monitor_acceleration::in_ext_accel;\n",
    "                out item out_accel = monitor_acceleration::out_accel;\n",
    "            }\n",
    "            then continueMonitoring;\n",
    "        }\n",
    "        then joinNode;\n",
    "        action monitor_temperature: Monitor_Temperature {\n",
    "            in item in_ext_temp = system_process::in_ext_temp;\n",
    "            out item out_temp;\n",
    "            \n",
    "            first start;\n",
    "            then merge continueMonitoring;\n",
    "            then action capture_temperature: Capture_Temperature {\n",
    "                in item in_ext_temp = monitor_temperature::in_ext_temp;\n",
    "                out item out_temp = monitor_temperature::out_temp;\n",
    "            }\n",
    "            then continueMonitoring;\n",
    "        }\n",
    "        then joinNode;\n",
    "        action send_alert_signal_periodically: Send_Alert_Signal_Periodically {\n",
    "            in item in_accel flow from monitor_acceleration.out_accel;\n",
    "            in item in_temp flow from monitor_temperature.out_temp;\n",
    "            out item out_alert_sig: Item_Alert_Signal;\n",
    "\n",
    "            first start;\n",
    "            then merge continueSending;\n",
    "            then decide;\n",
    "                if ((in_temp < -40) || (in_temp > 80)) then send_alert_signal_off;\n",
    "                if (((in_accel >= -50) && (in_accel <= 50)) && ((in_temp >= -40) && (in_temp <= 80))) then send_alert_signal_off;\n",
    "                if (((in_accel < -50) || (in_accel > 50)) && ((in_temp >= -40) && (in_temp <= 80))) then send_alert_signal_on;\n",
    "                    \n",
    "            action send_alert_signal_on: Send_Alert_Signal_ON {\n",
    "                out item out_alert_sig_on = send_alert_signal_periodically::out_alert_sig;\n",
    "            }\n",
    "            then continueSending;\n",
    "                    \n",
    "            action send_alert_signal_off: Send_Alert_Signal_OFF {\n",
    "                out item out_alert_sig_off = send_alert_signal_periodically::out_alert_sig;\n",
    "            }\n",
    "            then continueSending;\n",
    "        }\n",
    "        then joinNode;\n",
    "\n",
    "        join joinNode;\n",
    "        then action stop_system: Stop_System {\n",
    "            first start;\n",
    "            then action stop_sending_alert_signal: Stop_Sending_Alert_Signal;\n",
    "            then done;\n",
    "        }\n",
    "        then done;\n",
    "    }\n",
    "}"
   ]
  },
  {
   "cell_type": "code",
   "execution_count": null,
   "id": "bb515fa2-724e-424f-95b8-8f2c9892f519",
   "metadata": {
    "vscode": {
     "languageId": "sysml"
    }
   },
   "outputs": [],
   "source": [
    "%viz --view action --style stdcolor --style tb \"EACS System Use Case Activity\""
   ]
  },
  {
   "cell_type": "markdown",
   "id": "3f950260-1b65-447f-8302-cfbacad64f0c",
   "metadata": {
    "jp-MarkdownHeadingCollapsed": true,
    "tags": []
   },
   "source": [
    "#### System Logical Architecture Definition"
   ]
  },
  {
   "cell_type": "markdown",
   "id": "4131a707-cd2b-479e-98d2-2b98103707a2",
   "metadata": {},
   "source": [
    "GitHub: https://github.com/yutaro-ito/sample-sysml-v2-project/blob/main/src/system-logical-architecture-stm.sysml"
   ]
  },
  {
   "cell_type": "code",
   "execution_count": null,
   "id": "aac2e699-8b47-40dd-b2e5-7a121b6119cb",
   "metadata": {
    "vscode": {
     "languageId": "sysml"
    }
   },
   "outputs": [],
   "source": [
    "package 'EACS Logical Architecture'\n",
    "{\n",
    "    import 'EACS System Context'::*;\n",
    "    import 'EACS Item'::*;\n",
    "    import 'EACS System Use Case Activity'::*;\n",
    "\n",
    "    // ====================================\n",
    "    // Definitions of System Logical Architecture\n",
    "    // ====================================\n",
    "    part def EACS_Logical_Architcture :> EACS;\n",
    "    part eacs_logical_architcture: EACS_Logical_Architcture {\n",
    "        // Part with Actions\n",
    "        perform action perf_system_process :> system_process;\n",
    "        part accel_sensor: Acceleration_Sensor[1] {\n",
    "            // Action\n",
    "            perform perf_system_process.start_system.initialize_acceleration_sensor;\n",
    "            perform perf_system_process.monitor_acceleration.capture_acceleration;\n",
    "            // Event\n",
    "            event occurrence sensedAccelSent;\n",
    "        }\n",
    "        part temp_sensor: Temperature_Sensor[1] {\n",
    "            // Action\n",
    "            perform perf_system_process.start_system.initialization_temperature_sensor;\n",
    "            perform perf_system_process.monitor_temperature.capture_temperature;\n",
    "            // Event\n",
    "            event occurrence sensedTempSent;            \n",
    "        }\n",
    "        part controller: Controller[1] {\n",
    "            // Action\n",
    "            perform perf_system_process.start_system.send_alert_signal_init;\n",
    "            perform perf_system_process.send_alert_signal_periodically.send_alert_signal_off;\n",
    "            perform perf_system_process.send_alert_signal_periodically.send_alert_signal_on;\n",
    "            perform perf_system_process.stop_system.stop_sending_alert_signal;\n",
    "            // Event\n",
    "            event occurrence sensedAccelReceived;\n",
    "            then event occurrence sensedTempReceived;            \n",
    "        }\n",
    "\n",
    "        // Port (External Interfaces)\n",
    "        port p_ext_in_ext_accel: ~Port_External_Acceleration;\n",
    "        port p_ext_in_ext_temp: ~Port_External_Temperature;\n",
    "        port p_ext_out_alert_sig: Port_Alert_Signal;\n",
    "\n",
    "        // Internal Interface Connection\n",
    "        interface: IF_Captured_Acceleration connect\n",
    "            end_out_cap_accel :> accel_sensor.p_cap_accel to\n",
    "            end_in_cap_accel :> controller.p_cap_accel;\n",
    "        interface: IF_Captured_Temperature connect\n",
    "            end_out_cap_temp :> temp_sensor.p_cap_temp to\n",
    "            end_in_cap_temp :> controller.p_cap_temp;\n",
    "    }\n",
    "\n",
    "    // ====================================\n",
    "    // Definitions of Parts in System\n",
    "    // ====================================\n",
    "    part def Acceleration_Sensor {\n",
    "        port p_ext_accel: ~Port_External_Acceleration = eacs_logical_architcture.p_ext_in_ext_accel;\n",
    "        port p_cap_accel: Port_Captured_Acceleration;\n",
    "    }\n",
    "    part def Temperature_Sensor {\n",
    "        port p_ext_temp: ~Port_External_Temperature = eacs_logical_architcture.p_ext_in_ext_temp;\n",
    "        port p_cap_temp: Port_Captured_Temperature;\n",
    "    }\n",
    "    part def Controller {\n",
    "        port p_cap_accel: ~Port_Captured_Acceleration;\n",
    "        port p_cap_temp: ~Port_Captured_Temperature;\n",
    "        port p_alert_sig: Port_Alert_Signal = eacs_logical_architcture.p_ext_out_alert_sig;\n",
    "    }\n",
    "\n",
    "    // ====================================\n",
    "    // Definition of Port\n",
    "    // ====================================\n",
    "    port def Port_External_Acceleration {\n",
    "        out item item_ext_accel: Item_External_Acceleration;\n",
    "    }\n",
    "    port def Port_External_Temperature {\n",
    "        out item item_ext_temp: Item_External_Temperature;\n",
    "    }\n",
    "    port def Port_Captured_Acceleration {\n",
    "        out item item_cap_accel: Item_Captured_Acceleration;\n",
    "    }\n",
    "    port def Port_Captured_Temperature {\n",
    "        out item item_cap_temp: Item_Captured_Temperature;\n",
    "    }\n",
    "    port def Port_Alert_Signal {\n",
    "        out item item_alert_sig: Item_Alert_Signal;\n",
    "    }\n",
    "\n",
    "    // ====================================\n",
    "    // Definitions of Interfaces\n",
    "    // ====================================\n",
    "    interface def IF_Captured_Acceleration {\n",
    "        end end_out_cap_accel: Port_Captured_Acceleration;\n",
    "        end end_in_cap_accel: ~Port_Captured_Acceleration;\n",
    "    }\n",
    "    interface def IF_Captured_Temperature {\n",
    "        end end_out_cap_temp: Port_Captured_Temperature;\n",
    "        end end_in_cap_temp: ~Port_Captured_Temperature;\n",
    "    }\n",
    "}"
   ]
  },
  {
   "cell_type": "code",
   "execution_count": null,
   "id": "ef6fa273-830e-400d-b219-1fb9d6a56a19",
   "metadata": {
    "vscode": {
     "languageId": "sysml"
    }
   },
   "outputs": [],
   "source": [
    "%viz --view tree --style stdcolor --style lr \"EACS Logical Architecture\""
   ]
  },
  {
   "cell_type": "code",
   "execution_count": null,
   "id": "180b6a8d-c701-484f-8b90-e905a0165505",
   "metadata": {
    "vscode": {
     "languageId": "sysml"
    }
   },
   "outputs": [],
   "source": [
    "%viz --view interconnection --style stdcolor --style lr \"EACS Logical Architecture\""
   ]
  },
  {
   "cell_type": "markdown",
   "id": "c9ef2025-b419-4252-b6d3-5e32312b5258",
   "metadata": {},
   "source": [
    "#### System State Machine Definition"
   ]
  },
  {
   "cell_type": "markdown",
   "id": "5d70c17f-cf06-4d6a-9885-23319d4a6da1",
   "metadata": {},
   "source": [
    "GitHub: https://github.com/yutaro-ito/sample-sysml-v2-project/blob/main/src/system-logical-architecture-stm.sysml"
   ]
  },
  {
   "cell_type": "code",
   "execution_count": null,
   "id": "d82f3f2e-bea2-405a-974e-211fc4cd0bef",
   "metadata": {
    "vscode": {
     "languageId": "sysml"
    }
   },
   "outputs": [],
   "source": [
    "package 'EACS Logical Architecture State Machine'\n",
    "{\n",
    "    state def EACS_State_Machine;\n",
    "\n",
    "    attribute def TRG_Power_ON;\n",
    "    attribute def TRG_Power_OFF;\n",
    "    attribute def TRG_Initialization_Completed;\n",
    "\n",
    "    state eace_state_machine: EACS_State_Machine {\n",
    "        // Entry\n",
    "        entry; then Power_OFF_State;\n",
    "        // State\n",
    "        state Power_OFF_State;\n",
    "        accept TRG_Power_ON then Power_ON_State;\n",
    "\n",
    "        state Power_ON_State {\n",
    "            // Entry\n",
    "            entry; then Initialization_State;\n",
    "            // State\n",
    "            state Initialization_State;\n",
    "            accept TRG_Initialization_Completed then Runtime_State;\n",
    "            state Runtime_State;\n",
    "        }\n",
    "        accept TRG_Power_OFF then Power_OFF_State;\n",
    "    }\n",
    "}"
   ]
  },
  {
   "cell_type": "code",
   "execution_count": null,
   "id": "8239762c-9b03-434c-8744-4bf17481f038",
   "metadata": {
    "vscode": {
     "languageId": "sysml"
    }
   },
   "outputs": [],
   "source": [
    "%viz --view state --style stdcolor --style lr \"EACS Logical Architecture State Machine\""
   ]
  },
  {
   "cell_type": "markdown",
   "id": "dc03f951-16d0-4d5b-a64e-5156a42b229b",
   "metadata": {},
   "source": [
    "#### System Scenario Definition"
   ]
  },
  {
   "cell_type": "markdown",
   "id": "35871ee8-ce5e-4ab2-8a00-5ae7a75b98e1",
   "metadata": {},
   "source": [
    "GitHub: https://github.com/yutaro-ito/sample-sysml-v2-project/blob/main/src/system-logical-architecture-sd.sysml"
   ]
  },
  {
   "cell_type": "code",
   "execution_count": null,
   "id": "676717b2-57be-4741-9454-cc631d490f10",
   "metadata": {
    "vscode": {
     "languageId": "sysml"
    }
   },
   "outputs": [],
   "source": [
    "package 'EACS Logical Architecture Sequence'\n",
    "{\n",
    "    import 'EACS Logical Architecture'::*;\n",
    "    \n",
    "    occurrence def EACS_Sequence {\n",
    "    message sensedAccelMessage\n",
    "        from eacs_logical_architcture.accel_sensor.sensedAccelSent\n",
    "        to eacs_logical_architcture.controller.sensedAccelReceived;\n",
    "\n",
    "    message sensedTempMessage\n",
    "        from eacs_logical_architcture.temp_sensor.sensedTempSent\n",
    "        to eacs_logical_architcture.controller.sensedTempReceived;\n",
    "    }\n",
    "}"
   ]
  },
  {
   "cell_type": "code",
   "execution_count": null,
   "id": "7dcaf37b-d27c-40b7-9be3-da8a8cbf86ae",
   "metadata": {
    "vscode": {
     "languageId": "sysml"
    }
   },
   "outputs": [],
   "source": [
    "%viz --view sequence \"EACS Logical Architecture Sequence\""
   ]
  },
  {
   "cell_type": "markdown",
   "id": "8b71da1f-1a75-4a2e-8518-b4947343804b",
   "metadata": {},
   "source": [
    "#### System Variant"
   ]
  },
  {
   "cell_type": "code",
   "execution_count": null,
   "id": "8ad21ca7-34d7-49db-8ae3-03f64c90487e",
   "metadata": {
    "vscode": {
     "languageId": "sysml"
    }
   },
   "outputs": [],
   "source": [
    "package 'EACS System Variant'\n",
    "{\n",
    "    import 'EACS System Context'::*;\n",
    "    import 'EACS Item'::*;\n",
    "    import 'EACS Logical Architecture'::*;\n",
    "\n",
    "    // ====================================\n",
    "    // Definitions of Variant Parts in System\n",
    "    // ====================================\n",
    "    part low_end_accel_sensor: Acceleration_Sensor[1];\n",
    "    part high_end_accel_sensor: Acceleration_Sensor[1];\n",
    "    part low_end_temp_sensor: Temperature_Sensor[1];\n",
    "    part high_end_temp_sensor: Temperature_Sensor[1];\n",
    "    part low_end_controller: Controller[1];\n",
    "    part high_end_controller: Controller[1];\n",
    "\n",
    "    // ====================================\n",
    "    // Variability Model\n",
    "    // ====================================\n",
    "    variation part def Acceleration_Sensor_Choices :> Acceleration_Sensor {\n",
    "        variant low_end_accel_sensor;\n",
    "        variant high_end_accel_sensor;\n",
    "    }\n",
    "    variation part def Temperature_Sensor_Choices :> Temperature_Sensor {\n",
    "        variant low_end_temp_sensor;\n",
    "        variant high_end_temp_sensor;\n",
    "    }\n",
    "    variation part def Controller_Sensor_Choices :> Controller {\n",
    "        variant low_end_controller;\n",
    "        variant high_end_controller;\n",
    "    }\n",
    "\n",
    "    // ====================================\n",
    "    // Variant Configuration\n",
    "    // ====================================\n",
    "    part var_accel_sensor: Acceleration_Sensor_Choices[1];\n",
    "    part var_temp_sensor: Temperature_Sensor_Choices[1];\n",
    "    part var_controller: Controller_Sensor_Choices[1];\n",
    "\n",
    "    abstract part EACS_Family: EACS {\n",
    "        part accel_sensor: Acceleration_Sensor_Choices;\n",
    "        part temp_sensor: Temperature_Sensor_Choices;\n",
    "        part controller: Controller_Sensor_Choices;\n",
    "    }\n",
    "\n",
    "    // Patern #1 Super Low End\n",
    "    part EACS_Super_Low_End :> EACS_Family {\n",
    "        part redefines accel_sensor = var_accel_sensor::low_end_accel_sensor;\n",
    "        part redefines temp_sensor = var_temp_sensor::low_end_temp_sensor;\n",
    "        part redefines controller = var_controller::low_end_controller;\n",
    "    }\n",
    "\n",
    "    // Patern #2 Intelligent Controller\n",
    "    part EACS_Intelligent_COntroller :> EACS_Family {\n",
    "        part redefines accel_sensor = var_accel_sensor::low_end_accel_sensor;\n",
    "        part redefines temp_sensor = var_temp_sensor::low_end_temp_sensor;\n",
    "        part redefines controller = var_controller::high_end_controller;\n",
    "    }\n",
    "\n",
    "    // Patern #3 Super High End\n",
    "    part EACS_Super_High_End :> EACS_Family {\n",
    "        part redefines accel_sensor = var_accel_sensor::high_end_accel_sensor;\n",
    "        part redefines temp_sensor = var_temp_sensor::high_end_temp_sensor;\n",
    "        part redefines controller = var_controller::high_end_controller;\n",
    "    }\n",
    "}"
   ]
  },
  {
   "cell_type": "code",
   "execution_count": null,
   "id": "bdb8a9a7-75c3-4298-8074-4875a1d85f42",
   "metadata": {
    "vscode": {
     "languageId": "sysml"
    }
   },
   "outputs": [],
   "source": [
    "%viz --view tree --style stdcolor --style lr \"EACS System Variant\""
   ]
  },
  {
   "cell_type": "code",
   "execution_count": null,
   "id": "b0c0a866-4587-4378-b8f6-b20176adc249",
   "metadata": {
    "vscode": {
     "languageId": "sysml"
    }
   },
   "outputs": [],
   "source": []
  }
 ],
 "metadata": {
  "kernelspec": {
   "display_name": "Mg-SysML",
   "language": "sysml",
   "name": "sysml"
  },
  "language_info": {
   "codemirror_mode": "sysml",
   "file_extension": ".sysml",
   "mimetype": "text/x-sysml",
   "name": "SysML",
   "pygments_lexer": "java",
   "version": "1.0.0"
  }
 },
 "nbformat": 4,
 "nbformat_minor": 5
}
